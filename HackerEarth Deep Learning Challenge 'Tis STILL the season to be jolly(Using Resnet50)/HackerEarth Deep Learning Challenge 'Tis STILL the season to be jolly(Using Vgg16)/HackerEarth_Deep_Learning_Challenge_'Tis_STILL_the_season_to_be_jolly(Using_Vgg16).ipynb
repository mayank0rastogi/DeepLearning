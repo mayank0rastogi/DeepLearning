{
  "nbformat": 4,
  "nbformat_minor": 0,
  "metadata": {
    "colab": {
      "name": "HackerEarth Deep Learning Challenge: 'Tis STILL the season to be jolly(Using Vgg16).ipynb",
      "provenance": []
    },
    "kernelspec": {
      "name": "python3",
      "display_name": "Python 3"
    },
    "accelerator": "GPU"
  },
  "cells": [
    {
      "cell_type": "markdown",
      "metadata": {
        "id": "HBuv2XoK7rbK"
      },
      "source": [
        "#** Using Vgg16 architecture**"
      ]
    },
    {
      "cell_type": "code",
      "metadata": {
        "colab": {
          "base_uri": "https://localhost:8080/"
        },
        "id": "RtNBIDAYk9Zf",
        "outputId": "9f6b795c-4510-4126-c833-8ea3605fea81"
      },
      "source": [
        "from zipfile import ZipFile\r\n",
        "file_name = \"/content/drive/MyDrive/HACKER EARTH/images.zip\"\r\n",
        "with ZipFile(file_name,'r') as zip:\r\n",
        "  zip.extractall()\r\n",
        "  print('finish')\r\n"
      ],
      "execution_count": 1,
      "outputs": [
        {
          "output_type": "stream",
          "text": [
            "finish\n"
          ],
          "name": "stdout"
        }
      ]
    },
    {
      "cell_type": "markdown",
      "metadata": {
        "id": "kmISsdPC71fs"
      },
      "source": [
        "##Importing necessary Files"
      ]
    },
    {
      "cell_type": "code",
      "metadata": {
        "id": "H-LBP_ZklDju"
      },
      "source": [
        "import numpy as np\r\n",
        "import pandas as pd\r\n",
        "import os\r\n",
        "import seaborn as sns\r\n",
        "import matplotlib.pyplot as plt\r\n",
        "%matplotlib inline\r\n",
        "\r\n",
        "from sklearn.preprocessing import LabelEncoder, OneHotEncoder\r\n",
        "from sklearn.compose import ColumnTransformer\r\n",
        "\r\n",
        "import cv2\r\n",
        "from PIL import Image\r\n",
        "\r\n",
        "from keras import layers\r\n",
        "from tensorflow.keras import applications \r\n",
        "from keras.preprocessing.image import ImageDataGenerator\r\n",
        "from keras.models import Sequential, load_model\r\n",
        "from keras.optimizers import Adam\r\n",
        "\r\n",
        "\r\n",
        "from sklearn.model_selection import train_test_split\r\n",
        "from glob import glob\r\n",
        "from tqdm import tqdm\r\n",
        "\r\n",
        "\r\n",
        "\r\n",
        "\r\n",
        "# import the libraries as shown below\r\n",
        "from tensorflow.keras.layers import Input, Lambda, Dense, Flatten\r\n",
        "from tensorflow.keras.models import Model\r\n",
        "from tensorflow.keras.applications.vgg16 import VGG16\r\n",
        "from tensorflow.keras.applications.vgg19 import VGG19\r\n",
        "from tensorflow.keras.preprocessing import image\r\n",
        "from tensorflow.keras.preprocessing.image import ImageDataGenerator,load_img\r\n",
        "from tensorflow.keras.models import Sequential\r\n",
        "import numpy as np\r\n",
        "from glob import glob\r\n",
        "import matplotlib.pyplot as plt\r\n",
        "from keras.optimizers import Adam\r\n",
        "from keras.models import Sequential\r\n",
        "from keras.layers import Dense, Dropout, Flatten\r\n",
        "from keras.callbacks import EarlyStopping, ModelCheckpoint\r\n",
        "from keras import applications\r\n",
        "from keras.preprocessing import image\r\n",
        "from keras.models import Model\r\n",
        "from keras import optimizers\r\n",
        "from keras.utils import to_categorical\r\n",
        "from keras.utils import np_utils\r\n"
      ],
      "execution_count": 2,
      "outputs": []
    },
    {
      "cell_type": "markdown",
      "metadata": {
        "id": "AWYF-LjB750l"
      },
      "source": [
        "###Reading the file"
      ]
    },
    {
      "cell_type": "code",
      "metadata": {
        "colab": {
          "base_uri": "https://localhost:8080/",
          "height": 195
        },
        "id": "u4W7PLH5lDgg",
        "outputId": "8a6e0d75-660d-427a-a4bc-fa4ebac9f151"
      },
      "source": [
        "train = pd.read_csv(\"/content/dataset/train.csv\")\r\n",
        "train.head()"
      ],
      "execution_count": 6,
      "outputs": [
        {
          "output_type": "execute_result",
          "data": {
            "text/html": [
              "<div>\n",
              "<style scoped>\n",
              "    .dataframe tbody tr th:only-of-type {\n",
              "        vertical-align: middle;\n",
              "    }\n",
              "\n",
              "    .dataframe tbody tr th {\n",
              "        vertical-align: top;\n",
              "    }\n",
              "\n",
              "    .dataframe thead th {\n",
              "        text-align: right;\n",
              "    }\n",
              "</style>\n",
              "<table border=\"1\" class=\"dataframe\">\n",
              "  <thead>\n",
              "    <tr style=\"text-align: right;\">\n",
              "      <th></th>\n",
              "      <th>Image</th>\n",
              "      <th>Class</th>\n",
              "    </tr>\n",
              "  </thead>\n",
              "  <tbody>\n",
              "    <tr>\n",
              "      <th>0</th>\n",
              "      <td>image3476.jpg</td>\n",
              "      <td>Miscellaneous</td>\n",
              "    </tr>\n",
              "    <tr>\n",
              "      <th>1</th>\n",
              "      <td>image5198.jpg</td>\n",
              "      <td>Candle</td>\n",
              "    </tr>\n",
              "    <tr>\n",
              "      <th>2</th>\n",
              "      <td>image4183.jpg</td>\n",
              "      <td>Snowman</td>\n",
              "    </tr>\n",
              "    <tr>\n",
              "      <th>3</th>\n",
              "      <td>image1806.jpg</td>\n",
              "      <td>Miscellaneous</td>\n",
              "    </tr>\n",
              "    <tr>\n",
              "      <th>4</th>\n",
              "      <td>image7831.jpg</td>\n",
              "      <td>Miscellaneous</td>\n",
              "    </tr>\n",
              "  </tbody>\n",
              "</table>\n",
              "</div>"
            ],
            "text/plain": [
              "           Image          Class\n",
              "0  image3476.jpg  Miscellaneous\n",
              "1  image5198.jpg         Candle\n",
              "2  image4183.jpg        Snowman\n",
              "3  image1806.jpg  Miscellaneous\n",
              "4  image7831.jpg  Miscellaneous"
            ]
          },
          "metadata": {
            "tags": []
          },
          "execution_count": 6
        }
      ]
    },
    {
      "cell_type": "code",
      "metadata": {
        "colab": {
          "base_uri": "https://localhost:8080/"
        },
        "id": "6aVaSJkJlDcf",
        "outputId": "f7366318-a063-44ac-dbf2-c4bf2cecc8d0"
      },
      "source": [
        "train.shape"
      ],
      "execution_count": 7,
      "outputs": [
        {
          "output_type": "execute_result",
          "data": {
            "text/plain": [
              "(6469, 2)"
            ]
          },
          "metadata": {
            "tags": []
          },
          "execution_count": 7
        }
      ]
    },
    {
      "cell_type": "code",
      "metadata": {
        "colab": {
          "base_uri": "https://localhost:8080/",
          "height": 254
        },
        "id": "S0HQk6pPlDYZ",
        "outputId": "6e45ab1d-6600-4c20-e895-c6b43776912c"
      },
      "source": [
        "#train['Class'].value_counts()\r\n",
        "train.groupby(by = \"Class\").count()"
      ],
      "execution_count": 8,
      "outputs": [
        {
          "output_type": "execute_result",
          "data": {
            "text/html": [
              "<div>\n",
              "<style scoped>\n",
              "    .dataframe tbody tr th:only-of-type {\n",
              "        vertical-align: middle;\n",
              "    }\n",
              "\n",
              "    .dataframe tbody tr th {\n",
              "        vertical-align: top;\n",
              "    }\n",
              "\n",
              "    .dataframe thead th {\n",
              "        text-align: right;\n",
              "    }\n",
              "</style>\n",
              "<table border=\"1\" class=\"dataframe\">\n",
              "  <thead>\n",
              "    <tr style=\"text-align: right;\">\n",
              "      <th></th>\n",
              "      <th>Image</th>\n",
              "    </tr>\n",
              "    <tr>\n",
              "      <th>Class</th>\n",
              "      <th></th>\n",
              "    </tr>\n",
              "  </thead>\n",
              "  <tbody>\n",
              "    <tr>\n",
              "      <th>Airplane</th>\n",
              "      <td>535</td>\n",
              "    </tr>\n",
              "    <tr>\n",
              "      <th>Candle</th>\n",
              "      <td>593</td>\n",
              "    </tr>\n",
              "    <tr>\n",
              "      <th>Christmas_Tree</th>\n",
              "      <td>1539</td>\n",
              "    </tr>\n",
              "    <tr>\n",
              "      <th>Jacket</th>\n",
              "      <td>640</td>\n",
              "    </tr>\n",
              "    <tr>\n",
              "      <th>Miscellaneous</th>\n",
              "      <td>2801</td>\n",
              "    </tr>\n",
              "    <tr>\n",
              "      <th>Snowman</th>\n",
              "      <td>361</td>\n",
              "    </tr>\n",
              "  </tbody>\n",
              "</table>\n",
              "</div>"
            ],
            "text/plain": [
              "                Image\n",
              "Class                \n",
              "Airplane          535\n",
              "Candle            593\n",
              "Christmas_Tree   1539\n",
              "Jacket            640\n",
              "Miscellaneous    2801\n",
              "Snowman           361"
            ]
          },
          "metadata": {
            "tags": []
          },
          "execution_count": 8
        }
      ]
    },
    {
      "cell_type": "code",
      "metadata": {
        "id": "w38Wxg-2lDVk"
      },
      "source": [
        "# useful for getting number ofimages\r\n",
        "folders = glob('/content/dataset/train/*')"
      ],
      "execution_count": 9,
      "outputs": []
    },
    {
      "cell_type": "code",
      "metadata": {
        "colab": {
          "base_uri": "https://localhost:8080/"
        },
        "id": "kA4VsQJ4lDTU",
        "outputId": "0d72e2c0-24a5-44e1-e53c-103efa1b4fe5"
      },
      "source": [
        "len(folders)"
      ],
      "execution_count": 10,
      "outputs": [
        {
          "output_type": "execute_result",
          "data": {
            "text/plain": [
              "6469"
            ]
          },
          "metadata": {
            "tags": []
          },
          "execution_count": 10
        }
      ]
    },
    {
      "cell_type": "markdown",
      "metadata": {
        "id": "6XvEAJvn79Is"
      },
      "source": [
        "###Set Path into a variable"
      ]
    },
    {
      "cell_type": "code",
      "metadata": {
        "id": "xwjn9cOhlDQi"
      },
      "source": [
        "## set path for images\r\n",
        "TRAIN_PATH = '/content/dataset/train/'\r\n",
        "TEST_PATH = '/content/dataset/test/'"
      ],
      "execution_count": 11,
      "outputs": []
    },
    {
      "cell_type": "code",
      "metadata": {
        "id": "Cg4HCawVlDOB"
      },
      "source": [
        "IMG_SIZE = 224\r\n",
        "\r\n",
        "def read_img(img_path):\r\n",
        "    img = cv2.imread(img_path, cv2.IMREAD_COLOR)\r\n",
        "    img = cv2.resize(img, (IMG_SIZE, IMG_SIZE))\r\n",
        "    return img"
      ],
      "execution_count": 12,
      "outputs": []
    },
    {
      "cell_type": "code",
      "metadata": {
        "colab": {
          "base_uri": "https://localhost:8080/"
        },
        "id": "QApCrdKSlDLE",
        "outputId": "3d370f95-3777-42b8-f27e-9fd86d0fc144"
      },
      "source": [
        "train_img = []\r\n",
        "for img_name in tqdm(train['Image'].values):\r\n",
        "    train_img.append(read_img(TRAIN_PATH + img_name ))\r\n",
        "  ##Scaling the image  \r\n",
        "x_train = np.array(train_img, np.float32) / 255\r\n",
        "print(x_train.shape)"
      ],
      "execution_count": 13,
      "outputs": [
        {
          "output_type": "stream",
          "text": [
            "100%|██████████| 6469/6469 [00:02<00:00, 3047.15it/s]\n"
          ],
          "name": "stderr"
        },
        {
          "output_type": "stream",
          "text": [
            "(6469, 224, 224, 3)\n"
          ],
          "name": "stdout"
        }
      ]
    },
    {
      "cell_type": "code",
      "metadata": {
        "id": "WrP3JXCQlDIG"
      },
      "source": [
        "class_list = train['Class'].tolist()\r\n",
        "class_numeric = {k: v+1 for v, k in enumerate(set(class_list))}\r\n",
        "y_train = [class_numeric[k] for k in class_list]\r\n",
        "y_train = np.array(y_train)"
      ],
      "execution_count": 14,
      "outputs": []
    },
    {
      "cell_type": "code",
      "metadata": {
        "colab": {
          "base_uri": "https://localhost:8080/"
        },
        "id": "3FL9EzVZliLm",
        "outputId": "2c76fff6-c655-41cd-f7f6-191e90450404"
      },
      "source": [
        "y_train = to_categorical(y_train)\r\n",
        "print(y_train.shape)"
      ],
      "execution_count": 15,
      "outputs": [
        {
          "output_type": "stream",
          "text": [
            "(6469, 7)\n"
          ],
          "name": "stdout"
        }
      ]
    },
    {
      "cell_type": "markdown",
      "metadata": {
        "id": "tMarOvLt8DAk"
      },
      "source": [
        "###Initialize Vgg16 model "
      ]
    },
    {
      "cell_type": "code",
      "metadata": {
        "colab": {
          "base_uri": "https://localhost:8080/"
        },
        "id": "K1RxdWfRliIC",
        "outputId": "add65773-a684-4c1e-b3fa-cf33a5f9cab0"
      },
      "source": [
        "vgg16 = VGG16(input_shape=(IMG_SIZE, IMG_SIZE, 3), weights='imagenet', include_top=False)"
      ],
      "execution_count": 16,
      "outputs": [
        {
          "output_type": "stream",
          "text": [
            "Downloading data from https://storage.googleapis.com/tensorflow/keras-applications/vgg16/vgg16_weights_tf_dim_ordering_tf_kernels_notop.h5\n",
            "58892288/58889256 [==============================] - 0s 0us/step\n"
          ],
          "name": "stdout"
        }
      ]
    },
    {
      "cell_type": "code",
      "metadata": {
        "colab": {
          "base_uri": "https://localhost:8080/"
        },
        "id": "uz75_k8DliFT",
        "outputId": "7e9272ec-dd24-4f74-82ac-43f541408520"
      },
      "source": [
        "vgg16.summary()"
      ],
      "execution_count": 17,
      "outputs": [
        {
          "output_type": "stream",
          "text": [
            "Model: \"vgg16\"\n",
            "_________________________________________________________________\n",
            "Layer (type)                 Output Shape              Param #   \n",
            "=================================================================\n",
            "input_1 (InputLayer)         [(None, 224, 224, 3)]     0         \n",
            "_________________________________________________________________\n",
            "block1_conv1 (Conv2D)        (None, 224, 224, 64)      1792      \n",
            "_________________________________________________________________\n",
            "block1_conv2 (Conv2D)        (None, 224, 224, 64)      36928     \n",
            "_________________________________________________________________\n",
            "block1_pool (MaxPooling2D)   (None, 112, 112, 64)      0         \n",
            "_________________________________________________________________\n",
            "block2_conv1 (Conv2D)        (None, 112, 112, 128)     73856     \n",
            "_________________________________________________________________\n",
            "block2_conv2 (Conv2D)        (None, 112, 112, 128)     147584    \n",
            "_________________________________________________________________\n",
            "block2_pool (MaxPooling2D)   (None, 56, 56, 128)       0         \n",
            "_________________________________________________________________\n",
            "block3_conv1 (Conv2D)        (None, 56, 56, 256)       295168    \n",
            "_________________________________________________________________\n",
            "block3_conv2 (Conv2D)        (None, 56, 56, 256)       590080    \n",
            "_________________________________________________________________\n",
            "block3_conv3 (Conv2D)        (None, 56, 56, 256)       590080    \n",
            "_________________________________________________________________\n",
            "block3_pool (MaxPooling2D)   (None, 28, 28, 256)       0         \n",
            "_________________________________________________________________\n",
            "block4_conv1 (Conv2D)        (None, 28, 28, 512)       1180160   \n",
            "_________________________________________________________________\n",
            "block4_conv2 (Conv2D)        (None, 28, 28, 512)       2359808   \n",
            "_________________________________________________________________\n",
            "block4_conv3 (Conv2D)        (None, 28, 28, 512)       2359808   \n",
            "_________________________________________________________________\n",
            "block4_pool (MaxPooling2D)   (None, 14, 14, 512)       0         \n",
            "_________________________________________________________________\n",
            "block5_conv1 (Conv2D)        (None, 14, 14, 512)       2359808   \n",
            "_________________________________________________________________\n",
            "block5_conv2 (Conv2D)        (None, 14, 14, 512)       2359808   \n",
            "_________________________________________________________________\n",
            "block5_conv3 (Conv2D)        (None, 14, 14, 512)       2359808   \n",
            "_________________________________________________________________\n",
            "block5_pool (MaxPooling2D)   (None, 7, 7, 512)         0         \n",
            "=================================================================\n",
            "Total params: 14,714,688\n",
            "Trainable params: 14,714,688\n",
            "Non-trainable params: 0\n",
            "_________________________________________________________________\n"
          ],
          "name": "stdout"
        }
      ]
    },
    {
      "cell_type": "code",
      "metadata": {
        "colab": {
          "base_uri": "https://localhost:8080/"
        },
        "id": "hNtHHSrlliDF",
        "outputId": "64dc0634-40d3-445b-ea3b-cf05c6edb291"
      },
      "source": [
        "add_model = Sequential()#sequential layer\r\n",
        "add_model.add(Flatten(input_shape=vgg16.output_shape[1:]))#flattening\r\n",
        "add_model.add(Dropout(0.3))\r\n",
        "add_model.add(Dense(128, activation='relu'))\r\n",
        "add_model.add(Dropout(0.3))\r\n",
        "add_model.add(Dense(y_train.shape[1], activation='softmax'))\r\n",
        "\r\n",
        "model = Model(inputs=vgg16.input, outputs=add_model(vgg16.output))\r\n",
        "\r\n",
        "model.compile(loss='categorical_crossentropy', optimizer=optimizers.SGD(lr=1e-4, momentum=0.9),\r\n",
        "              metrics=['accuracy'])\r\n",
        "\r\n",
        "model.summary()"
      ],
      "execution_count": 18,
      "outputs": [
        {
          "output_type": "stream",
          "text": [
            "Model: \"model\"\n",
            "_________________________________________________________________\n",
            "Layer (type)                 Output Shape              Param #   \n",
            "=================================================================\n",
            "input_1 (InputLayer)         [(None, 224, 224, 3)]     0         \n",
            "_________________________________________________________________\n",
            "block1_conv1 (Conv2D)        (None, 224, 224, 64)      1792      \n",
            "_________________________________________________________________\n",
            "block1_conv2 (Conv2D)        (None, 224, 224, 64)      36928     \n",
            "_________________________________________________________________\n",
            "block1_pool (MaxPooling2D)   (None, 112, 112, 64)      0         \n",
            "_________________________________________________________________\n",
            "block2_conv1 (Conv2D)        (None, 112, 112, 128)     73856     \n",
            "_________________________________________________________________\n",
            "block2_conv2 (Conv2D)        (None, 112, 112, 128)     147584    \n",
            "_________________________________________________________________\n",
            "block2_pool (MaxPooling2D)   (None, 56, 56, 128)       0         \n",
            "_________________________________________________________________\n",
            "block3_conv1 (Conv2D)        (None, 56, 56, 256)       295168    \n",
            "_________________________________________________________________\n",
            "block3_conv2 (Conv2D)        (None, 56, 56, 256)       590080    \n",
            "_________________________________________________________________\n",
            "block3_conv3 (Conv2D)        (None, 56, 56, 256)       590080    \n",
            "_________________________________________________________________\n",
            "block3_pool (MaxPooling2D)   (None, 28, 28, 256)       0         \n",
            "_________________________________________________________________\n",
            "block4_conv1 (Conv2D)        (None, 28, 28, 512)       1180160   \n",
            "_________________________________________________________________\n",
            "block4_conv2 (Conv2D)        (None, 28, 28, 512)       2359808   \n",
            "_________________________________________________________________\n",
            "block4_conv3 (Conv2D)        (None, 28, 28, 512)       2359808   \n",
            "_________________________________________________________________\n",
            "block4_pool (MaxPooling2D)   (None, 14, 14, 512)       0         \n",
            "_________________________________________________________________\n",
            "block5_conv1 (Conv2D)        (None, 14, 14, 512)       2359808   \n",
            "_________________________________________________________________\n",
            "block5_conv2 (Conv2D)        (None, 14, 14, 512)       2359808   \n",
            "_________________________________________________________________\n",
            "block5_conv3 (Conv2D)        (None, 14, 14, 512)       2359808   \n",
            "_________________________________________________________________\n",
            "block5_pool (MaxPooling2D)   (None, 7, 7, 512)         0         \n",
            "_________________________________________________________________\n",
            "sequential (Sequential)      (None, 7)                 3212295   \n",
            "=================================================================\n",
            "Total params: 17,926,983\n",
            "Trainable params: 17,926,983\n",
            "Non-trainable params: 0\n",
            "_________________________________________________________________\n"
          ],
          "name": "stdout"
        }
      ]
    },
    {
      "cell_type": "markdown",
      "metadata": {
        "id": "3UCTE0fU8Ihl"
      },
      "source": [
        "###Data Augmentation"
      ]
    },
    {
      "cell_type": "code",
      "metadata": {
        "id": "0xLbq9_Ilh_x"
      },
      "source": [
        "batch_size = 32      \r\n",
        "epochs = 50"
      ],
      "execution_count": 19,
      "outputs": []
    },
    {
      "cell_type": "code",
      "metadata": {
        "id": "ahbaJ6Vdlh7q"
      },
      "source": [
        "train_datagen = ImageDataGenerator(\r\n",
        "        rotation_range=30, \r\n",
        "        width_shift_range=0.1, \r\n",
        "        height_shift_range=0.1,\r\n",
        "        shear_range=0.2,\r\n",
        "        zoom_range=0.2,\r\n",
        "        horizontal_flip=True)\r\n",
        "\r\n",
        "train_datagen.fit(x_train)"
      ],
      "execution_count": 20,
      "outputs": []
    },
    {
      "cell_type": "markdown",
      "metadata": {
        "id": "J49-0Byd8L4B"
      },
      "source": [
        "###Fitting the model and train on tran images set"
      ]
    },
    {
      "cell_type": "code",
      "metadata": {
        "colab": {
          "base_uri": "https://localhost:8080/"
        },
        "id": "ls45kgJelh5D",
        "outputId": "9b655fc4-f768-4103-d569-4d0dc9e86a69"
      },
      "source": [
        "history = model.fit_generator( train_datagen.flow(x_train, y_train, batch_size=batch_size),\r\n",
        "                               steps_per_epoch=x_train.shape[0] // batch_size,\r\n",
        "                               epochs=epochs)"
      ],
      "execution_count": 21,
      "outputs": [
        {
          "output_type": "stream",
          "text": [
            "/usr/local/lib/python3.6/dist-packages/tensorflow/python/keras/engine/training.py:1844: UserWarning: `Model.fit_generator` is deprecated and will be removed in a future version. Please use `Model.fit`, which supports generators.\n",
            "  warnings.warn('`Model.fit_generator` is deprecated and '\n"
          ],
          "name": "stderr"
        },
        {
          "output_type": "stream",
          "text": [
            "Epoch 1/50\n",
            "202/202 [==============================] - 103s 471ms/step - loss: 1.6751 - accuracy: 0.3979\n",
            "Epoch 2/50\n",
            "202/202 [==============================] - 92s 456ms/step - loss: 1.1449 - accuracy: 0.5795\n",
            "Epoch 3/50\n",
            "202/202 [==============================] - 93s 460ms/step - loss: 0.8667 - accuracy: 0.6828\n",
            "Epoch 4/50\n",
            "202/202 [==============================] - 93s 461ms/step - loss: 0.7201 - accuracy: 0.7299\n",
            "Epoch 5/50\n",
            "202/202 [==============================] - 94s 462ms/step - loss: 0.6465 - accuracy: 0.7610\n",
            "Epoch 6/50\n",
            "202/202 [==============================] - 94s 463ms/step - loss: 0.5783 - accuracy: 0.7886\n",
            "Epoch 7/50\n",
            "202/202 [==============================] - 94s 463ms/step - loss: 0.5135 - accuracy: 0.8111\n",
            "Epoch 8/50\n",
            "202/202 [==============================] - 94s 463ms/step - loss: 0.4851 - accuracy: 0.8234\n",
            "Epoch 9/50\n",
            "202/202 [==============================] - 94s 463ms/step - loss: 0.4676 - accuracy: 0.8305\n",
            "Epoch 10/50\n",
            "202/202 [==============================] - 94s 466ms/step - loss: 0.4697 - accuracy: 0.8297\n",
            "Epoch 11/50\n",
            "202/202 [==============================] - 94s 463ms/step - loss: 0.4139 - accuracy: 0.8504\n",
            "Epoch 12/50\n",
            "202/202 [==============================] - 94s 463ms/step - loss: 0.3975 - accuracy: 0.8529\n",
            "Epoch 13/50\n",
            "202/202 [==============================] - 94s 464ms/step - loss: 0.3913 - accuracy: 0.8536\n",
            "Epoch 14/50\n",
            "202/202 [==============================] - 94s 464ms/step - loss: 0.3688 - accuracy: 0.8656\n",
            "Epoch 15/50\n",
            "202/202 [==============================] - 94s 464ms/step - loss: 0.3588 - accuracy: 0.8674\n",
            "Epoch 16/50\n",
            "202/202 [==============================] - 94s 463ms/step - loss: 0.3479 - accuracy: 0.8711\n",
            "Epoch 17/50\n",
            "202/202 [==============================] - 94s 463ms/step - loss: 0.3365 - accuracy: 0.8745\n",
            "Epoch 18/50\n",
            "202/202 [==============================] - 94s 464ms/step - loss: 0.3425 - accuracy: 0.8740\n",
            "Epoch 19/50\n",
            "202/202 [==============================] - 94s 464ms/step - loss: 0.3066 - accuracy: 0.8867\n",
            "Epoch 20/50\n",
            "202/202 [==============================] - 94s 465ms/step - loss: 0.2920 - accuracy: 0.8950\n",
            "Epoch 21/50\n",
            "202/202 [==============================] - 94s 464ms/step - loss: 0.3097 - accuracy: 0.8813\n",
            "Epoch 22/50\n",
            "202/202 [==============================] - 94s 463ms/step - loss: 0.2886 - accuracy: 0.8970\n",
            "Epoch 23/50\n",
            "202/202 [==============================] - 94s 464ms/step - loss: 0.2691 - accuracy: 0.8978\n",
            "Epoch 24/50\n",
            "202/202 [==============================] - 94s 462ms/step - loss: 0.2767 - accuracy: 0.9041\n",
            "Epoch 25/50\n",
            "202/202 [==============================] - 94s 463ms/step - loss: 0.2798 - accuracy: 0.8990\n",
            "Epoch 26/50\n",
            "202/202 [==============================] - 94s 464ms/step - loss: 0.2582 - accuracy: 0.9088\n",
            "Epoch 27/50\n",
            "202/202 [==============================] - 94s 463ms/step - loss: 0.2487 - accuracy: 0.9093\n",
            "Epoch 28/50\n",
            "202/202 [==============================] - 94s 463ms/step - loss: 0.2315 - accuracy: 0.9147\n",
            "Epoch 29/50\n",
            "202/202 [==============================] - 94s 463ms/step - loss: 0.2513 - accuracy: 0.9103\n",
            "Epoch 30/50\n",
            "202/202 [==============================] - 94s 464ms/step - loss: 0.2388 - accuracy: 0.9152\n",
            "Epoch 31/50\n",
            "202/202 [==============================] - 94s 463ms/step - loss: 0.2293 - accuracy: 0.9085\n",
            "Epoch 32/50\n",
            "202/202 [==============================] - 94s 465ms/step - loss: 0.2105 - accuracy: 0.9170\n",
            "Epoch 33/50\n",
            "202/202 [==============================] - 94s 463ms/step - loss: 0.2017 - accuracy: 0.9220\n",
            "Epoch 34/50\n",
            "202/202 [==============================] - 94s 463ms/step - loss: 0.2056 - accuracy: 0.9265\n",
            "Epoch 35/50\n",
            "202/202 [==============================] - 94s 463ms/step - loss: 0.1950 - accuracy: 0.9248\n",
            "Epoch 36/50\n",
            "202/202 [==============================] - 94s 463ms/step - loss: 0.1871 - accuracy: 0.9333\n",
            "Epoch 37/50\n",
            "202/202 [==============================] - 94s 463ms/step - loss: 0.1901 - accuracy: 0.9279\n",
            "Epoch 38/50\n",
            "202/202 [==============================] - 94s 463ms/step - loss: 0.1804 - accuracy: 0.9313\n",
            "Epoch 39/50\n",
            "202/202 [==============================] - 94s 464ms/step - loss: 0.1669 - accuracy: 0.9383\n",
            "Epoch 40/50\n",
            "202/202 [==============================] - 94s 463ms/step - loss: 0.1577 - accuracy: 0.9418\n",
            "Epoch 41/50\n",
            "202/202 [==============================] - 94s 463ms/step - loss: 0.1605 - accuracy: 0.9354\n",
            "Epoch 42/50\n",
            "202/202 [==============================] - 94s 464ms/step - loss: 0.1440 - accuracy: 0.9492\n",
            "Epoch 43/50\n",
            "202/202 [==============================] - 94s 463ms/step - loss: 0.1523 - accuracy: 0.9438\n",
            "Epoch 44/50\n",
            "202/202 [==============================] - 94s 464ms/step - loss: 0.1357 - accuracy: 0.9510\n",
            "Epoch 45/50\n",
            "202/202 [==============================] - 94s 463ms/step - loss: 0.1483 - accuracy: 0.9437\n",
            "Epoch 46/50\n",
            "202/202 [==============================] - 94s 463ms/step - loss: 0.1402 - accuracy: 0.9478\n",
            "Epoch 47/50\n",
            "202/202 [==============================] - 94s 464ms/step - loss: 0.1359 - accuracy: 0.9467\n",
            "Epoch 48/50\n",
            "202/202 [==============================] - 94s 465ms/step - loss: 0.1195 - accuracy: 0.9575\n",
            "Epoch 49/50\n",
            "202/202 [==============================] - 94s 465ms/step - loss: 0.1237 - accuracy: 0.9536\n",
            "Epoch 50/50\n",
            "202/202 [==============================] - 94s 465ms/step - loss: 0.1520 - accuracy: 0.9458\n"
          ],
          "name": "stdout"
        }
      ]
    },
    {
      "cell_type": "markdown",
      "metadata": {
        "id": "ww2tCIk_8Qd8"
      },
      "source": [
        "###Collecting the garbage"
      ]
    },
    {
      "cell_type": "code",
      "metadata": {
        "colab": {
          "base_uri": "https://localhost:8080/"
        },
        "id": "2aF3jqL6lh2H",
        "outputId": "e8e72a2b-2d6f-402e-e2b3-dd11f2ba9b95"
      },
      "source": [
        "import gc\r\n",
        "gc.collect()"
      ],
      "execution_count": 22,
      "outputs": [
        {
          "output_type": "execute_result",
          "data": {
            "text/plain": [
              "122"
            ]
          },
          "metadata": {
            "tags": []
          },
          "execution_count": 22
        }
      ]
    },
    {
      "cell_type": "code",
      "metadata": {
        "id": "7he3_M07mcNi"
      },
      "source": [
        "import os"
      ],
      "execution_count": 23,
      "outputs": []
    },
    {
      "cell_type": "markdown",
      "metadata": {
        "id": "eXhL-lPB8TpX"
      },
      "source": [
        "##Evaluate the test images folders for testing the prediction on the basis of Trainable model"
      ]
    },
    {
      "cell_type": "code",
      "metadata": {
        "id": "z6HRiRCjmcKr"
      },
      "source": [
        "test_images = os.listdir(TEST_PATH)\r\n",
        "test_img = []\r\n",
        "for image in test_images:\r\n",
        "    test_img.append(read_img(TEST_PATH + image))"
      ],
      "execution_count": 24,
      "outputs": []
    },
    {
      "cell_type": "code",
      "metadata": {
        "id": "VO7XvKhNmcIj"
      },
      "source": [
        "\r\n",
        "##Scaling the images\r\n",
        "x_test = np.array(test_img, np.float32) / 255\r\n",
        "predictions = model.predict(x_test)"
      ],
      "execution_count": 25,
      "outputs": []
    },
    {
      "cell_type": "code",
      "metadata": {
        "id": "guH2QjXTmcFd"
      },
      "source": [
        "predictions = np.argmax(predictions, axis=1)\r\n",
        "rev_y = {v:k for k,v in class_numeric.items()}\r\n",
        "pred_labels = [rev_y[k] for k in predictions]"
      ],
      "execution_count": 26,
      "outputs": []
    },
    {
      "cell_type": "markdown",
      "metadata": {
        "id": "7Kg2Wsbb8eBk"
      },
      "source": [
        "##Final submission of Our Result"
      ]
    },
    {
      "cell_type": "code",
      "metadata": {
        "colab": {
          "base_uri": "https://localhost:8080/"
        },
        "id": "zVKlqTSvmcC8",
        "outputId": "17214f3b-d9e1-431f-97c0-7079474726a4"
      },
      "source": [
        "data = pd.DataFrame({'Image': test_images, 'Class': pred_labels})\r\n",
        "data.to_csv('submission_vgg16.csv', index = False)\r\n",
        "data.head(20),data.shape"
      ],
      "execution_count": 27,
      "outputs": [
        {
          "output_type": "execute_result",
          "data": {
            "text/plain": [
              "(            Image           Class\n",
              " 0    image715.jpg   Miscellaneous\n",
              " 1   image2029.jpg         Snowman\n",
              " 2   image6577.jpg   Miscellaneous\n",
              " 3   image9721.jpg          Jacket\n",
              " 4   image3077.jpg   Miscellaneous\n",
              " 5   image4535.jpg   Miscellaneous\n",
              " 6   image7472.jpg   Miscellaneous\n",
              " 7   image3584.jpg  Christmas_Tree\n",
              " 8   image5404.jpg   Miscellaneous\n",
              " 9   image2992.jpg   Miscellaneous\n",
              " 10  image5770.jpg          Candle\n",
              " 11  image8557.jpg  Christmas_Tree\n",
              " 12  image5871.jpg          Jacket\n",
              " 13  image8986.jpg         Snowman\n",
              " 14   image685.jpg   Miscellaneous\n",
              " 15  image1943.jpg   Miscellaneous\n",
              " 16  image3526.jpg         Snowman\n",
              " 17  image5796.jpg  Christmas_Tree\n",
              " 18  image9653.jpg  Christmas_Tree\n",
              " 19  image1160.jpg   Miscellaneous, (3489, 2))"
            ]
          },
          "metadata": {
            "tags": []
          },
          "execution_count": 27
        }
      ]
    },
    {
      "cell_type": "markdown",
      "metadata": {
        "id": "O1Q8U07Y8uGF"
      },
      "source": [
        "##This Showws Our Predicted Results is right i.e is belongs to  Miscellaneous Class"
      ]
    },
    {
      "cell_type": "code",
      "metadata": {
        "colab": {
          "base_uri": "https://localhost:8080/",
          "height": 268
        },
        "id": "LJyafPm-8mpZ",
        "outputId": "20714fd3-5b9d-4e75-c65e-78b46637b5c6"
      },
      "source": [
        "import matplotlib.pyplot as plt\r\n",
        "import matplotlib.image as mpimg\r\n",
        "image = mpimg.imread(\"/content/dataset/test/image1943.jpg\")\r\n",
        "plt.imshow(image)\r\n",
        "plt.show()"
      ],
      "execution_count": 28,
      "outputs": [
        {
          "output_type": "display_data",
          "data": {
            "image/png": "[encoded data removed]",
            "text/plain": [
              "<Figure size 432x288 with 1 Axes>"
            ]
          },
          "metadata": {
            "tags": [],
            "needs_background": "light"
          }
        }
      ]
    },
    {
      "cell_type": "code",
      "metadata": {
        "id": "n60ab5vS8mg5"
      },
      "source": [
        "data=pd.read_csv('submission_vgg16.csv')"
      ],
      "execution_count": 29,
      "outputs": []
    },
    {
      "cell_type": "code",
      "metadata": {
        "colab": {
          "base_uri": "https://localhost:8080/",
          "height": 195
        },
        "id": "3Bn3aHLd8meg",
        "outputId": "aa62107a-cde8-42d0-b433-93f896b3479c"
      },
      "source": [
        "data.head()"
      ],
      "execution_count": 30,
      "outputs": [
        {
          "output_type": "execute_result",
          "data": {
            "text/html": [
              "<div>\n",
              "<style scoped>\n",
              "    .dataframe tbody tr th:only-of-type {\n",
              "        vertical-align: middle;\n",
              "    }\n",
              "\n",
              "    .dataframe tbody tr th {\n",
              "        vertical-align: top;\n",
              "    }\n",
              "\n",
              "    .dataframe thead th {\n",
              "        text-align: right;\n",
              "    }\n",
              "</style>\n",
              "<table border=\"1\" class=\"dataframe\">\n",
              "  <thead>\n",
              "    <tr style=\"text-align: right;\">\n",
              "      <th></th>\n",
              "      <th>Image</th>\n",
              "      <th>Class</th>\n",
              "    </tr>\n",
              "  </thead>\n",
              "  <tbody>\n",
              "    <tr>\n",
              "      <th>0</th>\n",
              "      <td>image715.jpg</td>\n",
              "      <td>Miscellaneous</td>\n",
              "    </tr>\n",
              "    <tr>\n",
              "      <th>1</th>\n",
              "      <td>image2029.jpg</td>\n",
              "      <td>Snowman</td>\n",
              "    </tr>\n",
              "    <tr>\n",
              "      <th>2</th>\n",
              "      <td>image6577.jpg</td>\n",
              "      <td>Miscellaneous</td>\n",
              "    </tr>\n",
              "    <tr>\n",
              "      <th>3</th>\n",
              "      <td>image9721.jpg</td>\n",
              "      <td>Jacket</td>\n",
              "    </tr>\n",
              "    <tr>\n",
              "      <th>4</th>\n",
              "      <td>image3077.jpg</td>\n",
              "      <td>Miscellaneous</td>\n",
              "    </tr>\n",
              "  </tbody>\n",
              "</table>\n",
              "</div>"
            ],
            "text/plain": [
              "           Image          Class\n",
              "0   image715.jpg  Miscellaneous\n",
              "1  image2029.jpg        Snowman\n",
              "2  image6577.jpg  Miscellaneous\n",
              "3  image9721.jpg         Jacket\n",
              "4  image3077.jpg  Miscellaneous"
            ]
          },
          "metadata": {
            "tags": []
          },
          "execution_count": 30
        }
      ]
    },
    {
      "cell_type": "code",
      "metadata": {
        "colab": {
          "base_uri": "https://localhost:8080/"
        },
        "id": "eD7UKcUI84t5",
        "outputId": "85172209-c0de-4801-9898-8d657b971b3b"
      },
      "source": [
        "data['Class'].value_counts()"
      ],
      "execution_count": 31,
      "outputs": [
        {
          "output_type": "execute_result",
          "data": {
            "text/plain": [
              "Miscellaneous     1612\n",
              "Christmas_Tree     807\n",
              "Jacket             344\n",
              "Candle             288\n",
              "Airplane           258\n",
              "Snowman            180\n",
              "Name: Class, dtype: int64"
            ]
          },
          "metadata": {
            "tags": []
          },
          "execution_count": 31
        }
      ]
    },
    {
      "cell_type": "markdown",
      "metadata": {
        "id": "pMKhJ3xu89cq"
      },
      "source": [
        "#Thank You!!"
      ]
    },
    {
      "cell_type": "code",
      "metadata": {
        "id": "8Z6MS6Ke8758"
      },
      "source": [
        ""
      ],
      "execution_count": null,
      "outputs": []
    }
  ]
}